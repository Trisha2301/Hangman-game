{
 "cells": [
  {
   "cell_type": "code",
   "execution_count": 1,
   "id": "b1bdaef0-8a92-42b0-a28e-d16aee9374ba",
   "metadata": {},
   "outputs": [
    {
     "name": "stdout",
     "output_type": "stream",
     "text": [
      "Enter your name :  Jareena\n"
     ]
    },
    {
     "name": "stdout",
     "output_type": "stream",
     "text": [
      "Hello Jareena! Welcome to Hangman game\n",
      "Rules are simple guess the word until your chances ended (you have 6 chances only )\n",
      "All the best 👍👍👍Jareena\n",
      "['_', '_', '_']\n"
     ]
    },
    {
     "name": "stdout",
     "output_type": "stream",
     "text": [
      "Enter the letter (only one) d\n"
     ]
    },
    {
     "name": "stdout",
     "output_type": "stream",
     "text": [
      "\n",
      "       +---+\n",
      "       O   |\n",
      "           |\n",
      "           |\n",
      "          ===\n"
     ]
    },
    {
     "name": "stdout",
     "output_type": "stream",
     "text": [
      "Enter the letter (only one) a\n"
     ]
    },
    {
     "name": "stdout",
     "output_type": "stream",
     "text": [
      "\n",
      "       +---+\n",
      "       O   |\n",
      "       |   |\n",
      "           |\n",
      "          ===\n"
     ]
    },
    {
     "name": "stdout",
     "output_type": "stream",
     "text": [
      "Enter the letter (only one) v\n"
     ]
    },
    {
     "name": "stdout",
     "output_type": "stream",
     "text": [
      "['v', '_', '_']\n"
     ]
    },
    {
     "name": "stdout",
     "output_type": "stream",
     "text": [
      "Enter the letter (only one) a\n"
     ]
    },
    {
     "name": "stdout",
     "output_type": "stream",
     "text": [
      "\n",
      "       +---+\n",
      "       O   |\n",
      "      /|   |\n",
      "           |\n",
      "          ===\n"
     ]
    },
    {
     "name": "stdout",
     "output_type": "stream",
     "text": [
      "Enter the letter (only one) e\n"
     ]
    },
    {
     "name": "stdout",
     "output_type": "stream",
     "text": [
      "\n",
      "       +---+\n",
      "       O   |\n",
      "      /|\\  |\n",
      "           |\n",
      "          ===\n"
     ]
    },
    {
     "name": "stdout",
     "output_type": "stream",
     "text": [
      "Enter the letter (only one) t\n"
     ]
    },
    {
     "name": "stdout",
     "output_type": "stream",
     "text": [
      "\n",
      "       +---+\n",
      "       O   |\n",
      "      /|\\  |\n",
      "      /    |\n",
      "          ===\n"
     ]
    },
    {
     "name": "stdout",
     "output_type": "stream",
     "text": [
      "Enter the letter (only one) n\n"
     ]
    },
    {
     "name": "stdout",
     "output_type": "stream",
     "text": [
      "\n",
      "       +---+\n",
      "       O   |\n",
      "      /|\\  |\n",
      "      / \\  |\n",
      "          ===\n",
      "You lost\n",
      " the word is vsk\n"
     ]
    }
   ],
   "source": [
    "# Hangman game \n",
    "import random \n",
    "name=input(\"Enter your name : \")\n",
    "figure=[ '''\n",
    "       +---+\n",
    "       O   |\n",
    "           |\n",
    "           |\n",
    "          ===''', '''\n",
    "       +---+\n",
    "       O   |\n",
    "       |   |\n",
    "           |\n",
    "          ===''', '''\n",
    "       +---+\n",
    "       O   |\n",
    "      /|   |\n",
    "           |\n",
    "          ===''', '''\n",
    "       +---+\n",
    "       O   |\n",
    "      /|\\  |\n",
    "           |\n",
    "          ===''', '''\n",
    "       +---+\n",
    "       O   |\n",
    "      /|\\  |\n",
    "      /    |\n",
    "          ===''', '''\n",
    "       +---+\n",
    "       O   |\n",
    "      /|\\  |\n",
    "      / \\  |\n",
    "          ===''']\n",
    "print(\"Hello \"+name+\"! Welcome to Hangman game\\nRules are simple guess the word until your chances ended (you have 6 chances only )\")\n",
    "print(\"All the best 👍👍👍\"+name)\n",
    "wordLength=random.randint(3,13)\n",
    "word,guessL=\"\",[]\n",
    "for i in range(wordLength) : # lower case are in 97 to 121\n",
    "    word+=chr(random.randint(97,121))\n",
    "for i in range(len(word)):\n",
    "    guessL.append('_')\n",
    "game =True\n",
    "chances=0\n",
    "print(guessL)\n",
    "while game :\n",
    "    guess=input(\"Enter the letter (only one)\").lower()\n",
    "    for i in range(len(word)):\n",
    "        l=word[i]\n",
    "        if l==guess :\n",
    "            guessL[i]=guess\n",
    "            print(guessL)\n",
    "    if guess not in word :\n",
    "        print(figure[chances])\n",
    "        chances+=1\n",
    "        if chances ==6 :\n",
    "            game=False \n",
    "            print(\"You lost\\n the word is \"+word)\n",
    "    if '_' not in guessL :\n",
    "        game = False \n",
    "        print(\"You win\")\n",
    "        print(guessL)\n",
    "        break "
   ]
  },
  {
   "cell_type": "code",
   "execution_count": 26,
   "id": "3b34d8d7-f925-4688-bd0e-fc2ff13bb856",
   "metadata": {},
   "outputs": [
    {
     "name": "stdout",
     "output_type": "stream",
     "text": [
      "13\n",
      "tpuntrcviqcyc\n"
     ]
    }
   ],
   "source": [
    "#random word generator \n",
    "import random \n",
    "wordLength=random.randint(3,13)\n",
    "print(wordLength)\n",
    "word=\"\"\n",
    "for i in range(wordLength) : # lower case are in 97 to 121\n",
    "    word+=chr(random.randint(97,121))\n",
    "print(word)    \n"
   ]
  },
  {
   "cell_type": "code",
   "execution_count": 24,
   "id": "b1d745f1-3e9b-4a47-b2b8-f686c61b4256",
   "metadata": {},
   "outputs": [
    {
     "name": "stdout",
     "output_type": "stream",
     "text": [
      " kareem\n"
     ]
    },
    {
     "name": "stdout",
     "output_type": "stream",
     "text": [
      "['k', 'a', 'r', 'e', 'e', 'm'] 2\n",
      "['_', '_', '_', '_', '_', '_']\n"
     ]
    },
    {
     "name": "stdout",
     "output_type": "stream",
     "text": [
      " e\n",
      " j\n",
      " a\n",
      " e\n",
      " m\n",
      " k\n",
      " r\n"
     ]
    },
    {
     "name": "stdout",
     "output_type": "stream",
     "text": [
      "['k', 'a', 'r', 'e', 'e', 'm']\n"
     ]
    }
   ],
   "source": [
    "# replacer \n",
    "word=input()\n",
    "guessl,wordL,dup,dups=[],[],0,\"\"\n",
    "for i in word :\n",
    "    wordL.append(i)\n",
    "    dupc=word.count(i)\n",
    "    if dupc>1:\n",
    "        dup=dupc\n",
    "        dups=i\n",
    "print(wordL,dup)\n",
    "for i in range(len(word)):\n",
    "    guessl.append('_')\n",
    "print(guessl)\n",
    "for i in range(7):\n",
    "    gesser=input()\n",
    "    for j in range(len(word)) :\n",
    "        if gesser == word[j]:\n",
    "            guessl[j]=wordL[j]\n",
    "print(guessl)        "
   ]
  },
  {
   "cell_type": "code",
   "execution_count": 30,
   "id": "c9627e69-3fe8-4e16-a20f-4a8a05310f8f",
   "metadata": {},
   "outputs": [
    {
     "name": "stdout",
     "output_type": "stream",
     "text": [
      "['t', 'p', 'u', 'n', 't', 'r', 'c', 'v', 'i', 'q', 'c', 'y', 'c'] [2, 3]\n",
      "['_', '_', '_', '_', '_', '_', '_', '_', '_', '_', '_', '_', '_']\n"
     ]
    }
   ],
   "source": [
    "#duplicate counter\n",
    "word=\"tpuntrcviqcyc\"\n",
    "guessl,wordL,dupf,dups,dup=[],[],[],\"\",[]\n",
    "for i in word :\n",
    "    wordL.append(i)\n",
    "    dupc=word.count(i)\n",
    "    if dupc>1:\n",
    "        dupf.append(dupc)\n",
    "        dups=i\n",
    "dup=list(set(dupf))\n",
    "print(wordL,dup)\n",
    "for i in range(len(word)):\n",
    "    guessl.append('_')\n",
    "print(guessl)"
   ]
  },
  {
   "cell_type": "code",
   "execution_count": 50,
   "id": "11da1c0b-5ec7-4594-bdf7-1383dcc923ef",
   "metadata": {},
   "outputs": [
    {
     "name": "stdout",
     "output_type": "stream",
     "text": [
      " a\n"
     ]
    },
    {
     "name": "stdout",
     "output_type": "stream",
     "text": [
      "['a', '_', '_', '_', '_']\n"
     ]
    },
    {
     "name": "stdout",
     "output_type": "stream",
     "text": [
      " l\n"
     ]
    },
    {
     "name": "stdout",
     "output_type": "stream",
     "text": [
      "['a', '_', '_', 'l', '_']\n"
     ]
    },
    {
     "name": "stdout",
     "output_type": "stream",
     "text": [
      " p\n"
     ]
    },
    {
     "name": "stdout",
     "output_type": "stream",
     "text": [
      "['a', 'p', '_', 'l', '_']\n"
     ]
    },
    {
     "name": "stdout",
     "output_type": "stream",
     "text": [
      " p\n"
     ]
    },
    {
     "name": "stdout",
     "output_type": "stream",
     "text": [
      "['a', 'p', '_', 'l', '_']\n"
     ]
    },
    {
     "name": "stdout",
     "output_type": "stream",
     "text": [
      " e\n"
     ]
    },
    {
     "name": "stdout",
     "output_type": "stream",
     "text": [
      "['a', 'p', '_', 'l', 'e']\n"
     ]
    },
    {
     "name": "stdout",
     "output_type": "stream",
     "text": [
      " p\n"
     ]
    },
    {
     "name": "stdout",
     "output_type": "stream",
     "text": [
      "['a', 'p', '_', 'l', 'e']\n"
     ]
    },
    {
     "name": "stdout",
     "output_type": "stream",
     "text": [
      " k\n",
      " a\n"
     ]
    },
    {
     "name": "stdout",
     "output_type": "stream",
     "text": [
      "['a', 'p', '_', 'l', 'e']\n"
     ]
    },
    {
     "name": "stdout",
     "output_type": "stream",
     "text": [
      " r\n",
      " f\n",
      " g\n",
      " s\n",
      " s\n"
     ]
    },
    {
     "name": "stdout",
     "output_type": "stream",
     "text": [
      "You lost \n",
      "['a', 'p', '_', 'l', 'e']\n"
     ]
    }
   ],
   "source": [
    "#ender \n",
    "chances=0\n",
    "word=\"apple\"\n",
    "wordL=[]\n",
    "for i in word :\n",
    "    wordL.append(i)\n",
    "g=['_','_','_','_','_']\n",
    "game =True\n",
    "while game :\n",
    "    guess=input()\n",
    "    for i in range(len(word)):\n",
    "        l=word[i]\n",
    "        if l==guess :\n",
    "            g[i]=guess\n",
    "            print(g)\n",
    "    if guess not in word :\n",
    "        chances+=1\n",
    "        if chances ==6 :\n",
    "            game=False \n",
    "            print(\"You lost \")\n",
    "    if '_' not in g :\n",
    "        game = False \n",
    "        print(\"You win\")\n",
    "        break \n",
    "print(g)            \n",
    "            \n",
    "            \n",
    "    "
   ]
  },
  {
   "cell_type": "code",
   "execution_count": null,
   "id": "371f8beb-74ab-42bf-973e-a3b066074651",
   "metadata": {},
   "outputs": [],
   "source": []
  }
 ],
 "metadata": {
  "kernelspec": {
   "display_name": "Python 3 (ipykernel)",
   "language": "python",
   "name": "python3"
  },
  "language_info": {
   "codemirror_mode": {
    "name": "ipython",
    "version": 3
   },
   "file_extension": ".py",
   "mimetype": "text/x-python",
   "name": "python",
   "nbconvert_exporter": "python",
   "pygments_lexer": "ipython3",
   "version": "3.11.9"
  }
 },
 "nbformat": 4,
 "nbformat_minor": 5
}
